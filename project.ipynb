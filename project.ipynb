{
 "cells": [
  {
   "attachments": {},
   "cell_type": "markdown",
   "metadata": {},
   "source": [
    "## STD project"
   ]
  },
  {
   "cell_type": "code",
   "execution_count": null,
   "metadata": {},
   "outputs": [],
   "source": [
    "import torch\n",
    "from torch import nn\n",
    "from torch.nn import functional as F\n",
    "import torchvision\n",
    "from torchvision import transforms\n",
    "import matplotlib.pyplot as plt\n",
    "\n",
    "torch.manual_seed(42)\n",
    "torch.backends.cudnn.deterministic = True\n",
    "\n",
    "import random as rnd"
   ]
  },
  {
   "attachments": {},
   "cell_type": "markdown",
   "metadata": {},
   "source": [
    "## Train and model utils"
   ]
  },
  {
   "cell_type": "code",
   "execution_count": null,
   "metadata": {},
   "outputs": [],
   "source": [
    "from utils.train import *"
   ]
  },
  {
   "cell_type": "code",
   "execution_count": null,
   "metadata": {},
   "outputs": [],
   "source": [
    "from utils.models import *"
   ]
  },
  {
   "attachments": {},
   "cell_type": "markdown",
   "metadata": {},
   "source": [
    "## Mess the data"
   ]
  },
  {
   "cell_type": "code",
   "execution_count": null,
   "metadata": {},
   "outputs": [],
   "source": [
    "rate_errors = [0.0, 0.1, 0.2, 0.3, 0.4, 0.5, 0.6, 0.7, 0.8, 0.9, 1.0]"
   ]
  },
  {
   "attachments": {},
   "cell_type": "markdown",
   "metadata": {},
   "source": [
    "## Test distilation"
   ]
  },
  {
   "cell_type": "code",
   "execution_count": null,
   "metadata": {},
   "outputs": [],
   "source": [
    "teacher_model = LeNet(distilation=False)\n",
    "\n",
    "batch_size, lr, num_epochs = 256, 0.9, 10\n",
    "train_iter, val_iter, test_iter = load_data_fashion_mnist(batch_size, resize=None)\n",
    "train_loss, train_acc, val_loss, val_acc, test_acc, test_loss = train(teacher_model, train_iter, val_iter, test_iter, num_epochs, lr, try_gpu()) #2 min\n",
    "\n",
    "teacher_model.eval()\n",
    "student_model = LeNet(distilation=True)\n",
    "criterion = nn.CrossEntropyLoss()\n",
    "distilation_loss = DistilationLoss(criterion, teacher_model, distillation_type='hard')\n",
    "train_iter, val_iter, test_iter = load_data_fashion_mnist(batch_size, error_rate=0.5)\n",
    "train_loss, train_acc, val_loss, val_acc, test_acc, test_loss = train(student_model, train_iter, val_iter, test_iter, num_epochs, lr, try_gpu(), loss=distilation_loss) #2 min"
   ]
  },
  {
   "attachments": {},
   "cell_type": "markdown",
   "metadata": {},
   "source": [
    "## Train"
   ]
  },
  {
   "cell_type": "code",
   "execution_count": null,
   "metadata": {},
   "outputs": [],
   "source": [
    "import numpy as np\n",
    "\n",
    "batch_size, lr, num_epochs = 256, 0.9, 10\n",
    "\n",
    "train_loss_all = []\n",
    "train_acc_all = []\n",
    "val_loss_all = []\n",
    "val_acc_all = []\n",
    "test_loss_all = []\n",
    "test_acc_all = []\n",
    "\n",
    "for error_rate in rate_errors:\n",
    "    train_iter, val_iter, test_iter = load_data_fashion_mnist(batch_size, error_rate=error_rate)\n",
    "    train_loss, train_acc, val_loss, val_acc, test_acc, test_loss = train(net, train_iter, val_iter, test_iter, num_epochs, lr, try_gpu()) #2 min\n",
    "    train_loss_all.append(train_loss)\n",
    "    train_acc_all.append(train_acc)\n",
    "    val_loss_all.append(val_loss)\n",
    "    val_acc_all.append(val_acc)\n",
    "    test_loss_all.append(test_loss)\n",
    "    test_acc_all.append(test_acc)\n",
    "\n",
    "\n",
    "buffer_train_val = np.array([train_loss_all, train_acc_all, val_loss_all, val_acc_all])\n",
    "buffer_test = np.array([test_loss_all, test_acc_all])\n",
    "\n",
    "buffer_train_val.tofile(\"buffer_train_val.numpy\")\n",
    "buffer_test.tofile(\"buffer_test.numpy\")"
   ]
  },
  {
   "attachments": {},
   "cell_type": "markdown",
   "metadata": {},
   "source": [
    "## Data interpretation"
   ]
  },
  {
   "cell_type": "code",
   "execution_count": null,
   "metadata": {},
   "outputs": [],
   "source": [
    "import matplotlib.pyplot as plt\n",
    "import numpy as np\n",
    "\n",
    "batch_size, lr, num_epochs = 256, 0.9, 10\n",
    "rate_errors = [0.0, 0.1, 0.2, 0.3, 0.4, 0.5, 0.6, 0.7, 0.8, 0.9, 1.0]"
   ]
  },
  {
   "cell_type": "code",
   "execution_count": null,
   "metadata": {},
   "outputs": [],
   "source": [
    "buffer_test = np.fromfile(\"fashionMnist_iteration1/buffer_test.numpy\")\n",
    "buffer_test = buffer_test.reshape((2, len(rate_errors), 1))\n",
    "\n",
    "test_loss_all = buffer_test[0]\n",
    "test_acc_all = buffer_test[1]\n",
    "\n",
    "plt.plot(rate_errors, test_acc_all)"
   ]
  },
  {
   "cell_type": "code",
   "execution_count": null,
   "metadata": {},
   "outputs": [],
   "source": [
    "buffer_train_val = np.fromfile(\"fashionMnist_iteration1/buffer_train_val.numpy\")\n",
    "buffer_train_val = buffer_train_val.reshape((4, len(rate_errors), num_epochs))\n",
    "\n",
    "train_loss_all = buffer_train_val[0]\n",
    "train_acc_all = buffer_train_val[1]\n",
    "val_loss_all = buffer_train_val[2]\n",
    "val_acc_all = buffer_train_val[3]\n",
    "\n",
    "best_train_acc = train_acc_all[:, -1]\n",
    "best_val_acc = val_acc_all[:, -1]\n",
    "error_pergentage = np.multiply(rate_errors, 100)\n",
    "\n",
    "plt.plot(error_pergentage, best_train_acc, label='Train acc - 10 epochs')\n",
    "plt.plot(error_pergentage, best_val_acc, label='Validation acc - 10 epochs')\n",
    "plt.plot(error_pergentage, test_acc_all, label='Test acc - 10 epochs')\n",
    "plt.xlabel('Errors in the dataset [%]')\n",
    "plt.ylabel('Accuracy [%]')\n",
    "\n",
    "plt.legend(), plt.show()"
   ]
  },
  {
   "cell_type": "code",
   "execution_count": null,
   "metadata": {},
   "outputs": [],
   "source": [
    "print(test_acc_all)"
   ]
  }
 ],
 "metadata": {
  "kernelspec": {
   "display_name": "base",
   "language": "python",
   "name": "python3"
  },
  "language_info": {
   "codemirror_mode": {
    "name": "ipython",
    "version": 3
   },
   "file_extension": ".py",
   "mimetype": "text/x-python",
   "name": "python",
   "nbconvert_exporter": "python",
   "pygments_lexer": "ipython3",
   "version": "3.9.13"
  },
  "orig_nbformat": 4
 },
 "nbformat": 4,
 "nbformat_minor": 2
}
