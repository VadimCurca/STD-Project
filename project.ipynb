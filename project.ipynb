{
 "cells": [
  {
   "attachments": {},
   "cell_type": "markdown",
   "metadata": {},
   "source": [
    "## STD project"
   ]
  },
  {
   "cell_type": "code",
   "execution_count": 13,
   "metadata": {},
   "outputs": [],
   "source": [
    "import torch\n",
    "from torch import nn\n",
    "from torch.nn import functional as F\n",
    "import torchvision\n",
    "from torchvision import transforms\n",
    "import matplotlib.pyplot as plt\n",
    "\n",
    "torch.manual_seed(42)\n",
    "torch.backends.cudnn.deterministic = True\n",
    "\n",
    "import random as rnd"
   ]
  },
  {
   "attachments": {},
   "cell_type": "markdown",
   "metadata": {},
   "source": [
    "## Dataset utils"
   ]
  },
  {
   "cell_type": "code",
   "execution_count": 14,
   "metadata": {},
   "outputs": [],
   "source": [
    "def load_data_fashion_mnist(batch_size, resize=None):\n",
    "    \"\"\"Download the Fashion-MNIST dataset and then load it into memory.\"\"\"\n",
    "    trans = [transforms.ToTensor()]\n",
    "    if resize:\n",
    "        trans.insert(0, transforms.Resize(resize))\n",
    "    trans = transforms.Compose(trans)\n",
    "    mnist_train = torchvision.datasets.FashionMNIST(\n",
    "        root=\"../data\", train=True, transform=trans, download=True)\n",
    "    mnist_test = torchvision.datasets.FashionMNIST(\n",
    "        root=\"../data\", train=False, transform=trans, download=True)\n",
    "    mnist_train, mnist_val = torch.utils.data.random_split(mnist_train, [50000, 10000],\n",
    "                                                           generator=torch.Generator().manual_seed(42))\n",
    "    return (torch.utils.data.DataLoader(mnist_train, batch_size, shuffle=True,\n",
    "                            num_workers=2),\n",
    "            torch.utils.data.DataLoader(mnist_val, batch_size, shuffle=False,\n",
    "                            num_workers=2),\n",
    "            torch.utils.data.DataLoader(mnist_test, batch_size, shuffle=False,\n",
    "                            num_workers=2))"
   ]
  },
  {
   "attachments": {},
   "cell_type": "markdown",
   "metadata": {},
   "source": [
    "## Train utils"
   ]
  },
  {
   "cell_type": "code",
   "execution_count": 41,
   "metadata": {},
   "outputs": [],
   "source": [
    "def evaluate_accuracy(net, data_iter, loss, device):\n",
    "    \"\"\"Compute the accuracy for a model on a dataset.\"\"\"\n",
    "    net.eval()  # Set the model to evaluation mode\n",
    "\n",
    "    total_loss = 0\n",
    "    total_hits = 0\n",
    "    total_samples = 0\n",
    "    with torch.no_grad():\n",
    "        for X, y in data_iter:\n",
    "            X, y = X.to(device), y.to(device)\n",
    "            y_hat = net(X)\n",
    "            l = loss(y_hat, y)\n",
    "            total_loss += float(l)\n",
    "            total_hits += sum(net(X).argmax(axis=1).type(y.dtype) == y)\n",
    "            total_samples += y.numel()\n",
    "    return float(total_loss) / len(data_iter), float(total_hits) / total_samples  * 100\n",
    "\n",
    "\n",
    "class DistilationLoss(torch.nn.Module):\n",
    "    def __init__(self, base_criterion, teacher_model, alpha = 0.5, tau = 1.0, distillation_type = 'none'):\n",
    "        super().__init__()\n",
    "        self.base_criterion = base_criterion\n",
    "        self.teacher_model = teacher_model\n",
    "        self.alpha = alpha\n",
    "        self.tau = tau\n",
    "        self.distillation_type = distillation_type\n",
    "        assert distillation_type in ['none', 'hard', 'soft']\n",
    "\n",
    "    def forward(self, inputs, outputs, labels):\n",
    "        outputs_kd = None\n",
    "\n",
    "        # assume that the model outputs a tuple of [outputs, outputs_kd]\n",
    "        outputs, outputs_kd = outputs\n",
    "\n",
    "        base_loss = self.base_criterion(outputs, labels)\n",
    "        if self.distillation_type == 'none':\n",
    "            return base_loss\n",
    "\n",
    "        with torch.no_grad():\n",
    "            teacher_outputs = self.teacher_model(inputs)\n",
    "\n",
    "        if self.distillation_type == 'soft':\n",
    "            T = self.tau\n",
    "            # taken from https://github.com/peterliht/knowledge-distillation-pytorch/blob/master/model/net.py#L100\n",
    "            # with slight modifications\n",
    "            distillation_loss = F.kl_div(\n",
    "                F.log_softmax(outputs_kd / T, dim=1),\n",
    "                F.log_softmax(teacher_outputs / T, dim=1),\n",
    "                reduction='sum',\n",
    "                log_target=True\n",
    "            ) * (T * T) / outputs_kd.numel()\n",
    "        elif self.distillation_type == 'hard':\n",
    "            distillation_loss = F.cross_entropy(\n",
    "                outputs_kd, teacher_outputs.argmax(dim=1)\n",
    "            )\n",
    "\n",
    "        loss = base_loss * (1 - self.alpha) + distillation_loss * self.alpha\n",
    "        return loss\n",
    "\n",
    "def train_epoch(net, train_iter, loss, optimizer, device):  \n",
    "    # Set the model to training mode\n",
    "    net.train()\n",
    "    # Sum of training loss, sum of training correct predictions, no. of examples\n",
    "    total_loss = 0\n",
    "    total_hits = 0\n",
    "    total_samples = 0\n",
    "    for X, y in train_iter:\n",
    "        # Compute gradients and update parameters\n",
    "        X, y = X.to(device), y.to(device)\n",
    "        y_hat = net(X)\n",
    "        \n",
    "        if not isinstance(loss, DistilationLoss):\n",
    "            l = loss(y_hat, y)\n",
    "        else:\n",
    "            l = loss(X, y_hat, y)\n",
    "        # Using PyTorch built-in optimizer & loss criterion\n",
    "        optimizer.zero_grad()\n",
    "        l.backward()\n",
    "        optimizer.step()\n",
    "        total_loss += float(l)\n",
    "\n",
    "        if not isinstance(loss, DistilationLoss):\n",
    "            total_hits += sum(y_hat.argmax(axis=1).type(y.dtype) == y)\n",
    "        else:\n",
    "            total_hits += sum(y_hat[0].argmax(axis=1).type(y.dtype) == y)\n",
    "        total_samples += y.numel()\n",
    "    # Return training loss and training accuracy\n",
    "    return float(total_loss) / len(train_iter), float(total_hits) / total_samples  * 100\n",
    "\n",
    "def train(net, train_iter, val_iter, test_iter, num_epochs, lr, device, loss = nn.CrossEntropyLoss()):\n",
    "    \"\"\"Train a model.\"\"\"\n",
    "    train_loss_all = []\n",
    "    train_acc_all = []\n",
    "    val_loss_all = []\n",
    "    val_acc_all = []\n",
    "    def init_weights(m):\n",
    "        if type(m) == nn.Linear or type(m) == nn.Conv2d:\n",
    "            nn.init.xavier_uniform_(m.weight)\n",
    "    net.apply(init_weights)\n",
    "    print('Training on', device)\n",
    "    net.to(device)\n",
    "    optimizer = torch.optim.SGD(net.parameters(), lr=lr)\n",
    "    for epoch in range(num_epochs):\n",
    "        train_loss, train_acc = train_epoch(net, train_iter, loss, optimizer, device)\n",
    "        train_loss_all.append(train_loss)\n",
    "        train_acc_all.append(train_acc)\n",
    "                                                                # here\n",
    "        val_loss, val_acc = evaluate_accuracy(net, val_iter, nn.CrossEntropyLoss(), device)\n",
    "        val_loss_all.append(val_loss)\n",
    "        val_acc_all.append(val_acc)\n",
    "        print(f'Epoch {epoch + 1}, Train loss {train_loss:.2f}, Train accuracy {train_acc:.2f}, Validation loss {val_loss:.2f}, Validation accuracy {val_acc:.2f}')\n",
    "    test_loss, test_acc = evaluate_accuracy(net, test_iter, nn.CrossEntropyLoss(), device)\n",
    "    print(f'Test loss {test_loss:.2f}, Test accuracy {test_acc:.2f}')\n",
    "\n",
    "    return train_loss_all, train_acc_all, val_loss_all, val_acc_all, test_acc, test_loss\n",
    "\n",
    "\n",
    "def try_gpu(i=0):\n",
    "    \"\"\"Return gpu(i) if exists, otherwise return cpu().\"\"\"\n",
    "    if torch.cuda.device_count() >= i + 1:\n",
    "        return torch.device(f'cuda:{i}')\n",
    "    return torch.device('cpu')\n",
    "\n",
    "\n",
    "def plot_loss(train_loss_all, val_loss_all):\n",
    "    epochs = range(1, len(train_loss_all) + 1) \n",
    "    plt.plot(epochs, train_loss_all, 'bo', label='Training loss') \n",
    "    plt.plot(epochs, val_loss_all, 'b', label='Validation loss') \n",
    "    plt.title('Training and validation loss') \n",
    "    plt.xlabel('Epochs') \n",
    "    plt.ylabel('Loss') \n",
    "    plt.legend()  \n",
    "    plt.show()\n",
    "\n",
    "\n",
    "def plot_accuracy(train_acc_all, val_acc_all):\n",
    "    epochs = range(1, len(train_acc_all) + 1)\n",
    "    plt.plot(epochs, train_acc_all, 'bo', label='Training acc')\n",
    "    plt.plot(epochs, val_acc_all, 'b', label='Validation acc')\n",
    "    plt.title('Training and validation accuracy')\n",
    "    plt.xlabel('Epochs') \n",
    "    plt.ylabel('Accuracy') \n",
    "    plt.legend()\n",
    "    plt.show()"
   ]
  },
  {
   "attachments": {},
   "cell_type": "markdown",
   "metadata": {},
   "source": [
    "## LeNet"
   ]
  },
  {
   "cell_type": "code",
   "execution_count": 16,
   "metadata": {},
   "outputs": [
    {
     "data": {
      "text/plain": [
       "Sequential(\n",
       "  (0): Conv2d(1, 6, kernel_size=(5, 5), stride=(1, 1), padding=(2, 2))\n",
       "  (1): Sigmoid()\n",
       "  (2): AvgPool2d(kernel_size=2, stride=2, padding=0)\n",
       "  (3): Conv2d(6, 16, kernel_size=(5, 5), stride=(1, 1))\n",
       "  (4): Sigmoid()\n",
       "  (5): AvgPool2d(kernel_size=2, stride=2, padding=0)\n",
       "  (6): Flatten(start_dim=1, end_dim=-1)\n",
       "  (7): Linear(in_features=400, out_features=120, bias=True)\n",
       "  (8): Sigmoid()\n",
       "  (9): Linear(in_features=120, out_features=84, bias=True)\n",
       "  (10): Sigmoid()\n",
       "  (11): Linear(in_features=84, out_features=10, bias=True)\n",
       ")"
      ]
     },
     "execution_count": 16,
     "metadata": {},
     "output_type": "execute_result"
    }
   ],
   "source": [
    "net = nn.Sequential(\n",
    "    nn.Conv2d(1, 6, kernel_size=5, padding=2), nn.Sigmoid(),\n",
    "    nn.AvgPool2d(kernel_size=2, stride=2),\n",
    "    nn.Conv2d(6, 16, kernel_size=5), nn.Sigmoid(),\n",
    "    nn.AvgPool2d(kernel_size=2, stride=2),\n",
    "    nn.Flatten(),\n",
    "    nn.Linear(16 * 5 * 5, 120), nn.Sigmoid(),\n",
    "    nn.Linear(120, 84), nn.Sigmoid(),\n",
    "    nn.Linear(84, 10))\n",
    "net"
   ]
  },
  {
   "cell_type": "code",
   "execution_count": 31,
   "metadata": {},
   "outputs": [],
   "source": [
    "class LeNet(nn.Module):\n",
    "    def __init__(self, distilation):\n",
    "        super().__init__()\n",
    "\n",
    "        self.distilation = distilation\n",
    "\n",
    "        self.conv1      = nn.Conv2d(1, 6, kernel_size=5, padding=2) # nn.Sigmoid()\n",
    "        self.avgPool1   = nn.AvgPool2d(kernel_size=2, stride=2)\n",
    "        self.conv2      = nn.Conv2d(6, 16, kernel_size=5)           # nn.Sigmoid()\n",
    "        self.avgPool2   = nn.AvgPool2d(kernel_size=2, stride=2)\n",
    "        # nn.Flatten()\n",
    "        self.linear1    = nn.Linear(16 * 5 * 5, 120)                # nn.Sigmoid()\n",
    "        self.linear2    = nn.Linear(120, 84)                        # nn.Sigmoid()\n",
    "\n",
    "        self.head = nn.Linear(84, 10)\n",
    "        self.head_dist = nn.Linear(84, 10)\n",
    "\n",
    "    def forward(self, x):\n",
    "        Y = self.conv1(x)\n",
    "        Y = nn.Sigmoid()(Y)\n",
    "        Y = self.avgPool1(Y)\n",
    "        Y = self.conv2(Y)\n",
    "        Y = nn.Sigmoid()(Y)\n",
    "        Y = self.avgPool2(Y)\n",
    "        Y = nn.Flatten()(Y)\n",
    "        Y = self.linear1(Y)\n",
    "        Y = nn.Sigmoid()(Y)\n",
    "        Y = self.linear2(Y)\n",
    "        Y = nn.Sigmoid()(Y)\n",
    "\n",
    "\n",
    "        if self.distilation:\n",
    "            x = self.head(Y), self.head_dist(Y)\n",
    "            if not self.training:\n",
    "                x = (x[0] + x[1]) / 2\n",
    "        else:\n",
    "            x = self.head(Y)\n",
    "        return x\n"
   ]
  },
  {
   "attachments": {},
   "cell_type": "markdown",
   "metadata": {},
   "source": [
    "## Mess the data"
   ]
  },
  {
   "cell_type": "code",
   "execution_count": 18,
   "metadata": {},
   "outputs": [],
   "source": [
    "from torchvision.utils import _log_api_usage_once\n",
    "\n",
    "class TargetTransform():\n",
    "    def __init__(self, p):\n",
    "        self.p = p\n",
    "\n",
    "    def __call__(self, n):\n",
    "        change_label = rnd.random() < self.p\n",
    "        return (rnd.randint(0, 9) if change_label else n)\n",
    "\n",
    "\n",
    "def load_data_fashion_mnist(batch_size, resize=None, error_rate=0.0):\n",
    "    \"\"\"Download the Fashion-MNIST dataset and then load it into memory.\"\"\"\n",
    "    trans = [transforms.ToTensor()]\n",
    "    if resize:\n",
    "        trans.insert(0, transforms.Resize(resize))\n",
    "    trans = transforms.Compose(trans)\n",
    "\n",
    "    target_transform = TargetTransform(error_rate)\n",
    "\n",
    "    mnist_train = torchvision.datasets.FashionMNIST(\n",
    "        root=\"../data\", train=True, transform=trans, target_transform=target_transform, download=True)\n",
    "    mnist_test = torchvision.datasets.FashionMNIST(\n",
    "        root=\"../data\", train=False, transform=trans, download=True)\n",
    "    mnist_train, mnist_val = torch.utils.data.random_split(mnist_train, [50000, 10000],\n",
    "                                                           generator=torch.Generator().manual_seed(42))\n",
    "    return (torch.utils.data.DataLoader(mnist_train, batch_size, shuffle=True,\n",
    "                            num_workers=0),\n",
    "            torch.utils.data.DataLoader(mnist_val, batch_size, shuffle=False,\n",
    "                            num_workers=0),\n",
    "            torch.utils.data.DataLoader(mnist_test, batch_size, shuffle=False,\n",
    "                            num_workers=2))"
   ]
  },
  {
   "cell_type": "code",
   "execution_count": 19,
   "metadata": {},
   "outputs": [],
   "source": [
    "rate_errors = [0.0, 0.1, 0.2, 0.3, 0.4, 0.5, 0.6, 0.7, 0.8, 0.9, 1.0]"
   ]
  },
  {
   "attachments": {},
   "cell_type": "markdown",
   "metadata": {},
   "source": [
    "## Test distilation"
   ]
  },
  {
   "cell_type": "code",
   "execution_count": 42,
   "metadata": {},
   "outputs": [
    {
     "name": "stdout",
     "output_type": "stream",
     "text": [
      "Training on cpu\n",
      "Epoch 1, Train loss 1.17, Train accuracy 10.25, Validation loss 4.75, Validation accuracy 10.38\n",
      "Epoch 2, Train loss 1.16, Train accuracy 10.14, Validation loss 4.44, Validation accuracy 9.92\n",
      "Epoch 3, Train loss 1.15, Train accuracy 10.48, Validation loss 4.41, Validation accuracy 10.29\n",
      "Epoch 4, Train loss 1.13, Train accuracy 14.60, Validation loss 4.67, Validation accuracy 9.84\n",
      "Epoch 5, Train loss 1.05, Train accuracy 27.83, Validation loss 4.48, Validation accuracy 10.19\n",
      "Epoch 6, Train loss 1.02, Train accuracy 32.70, Validation loss 4.71, Validation accuracy 10.21\n",
      "Epoch 7, Train loss 1.01, Train accuracy 35.41, Validation loss 4.37, Validation accuracy 9.92\n",
      "Epoch 8, Train loss 0.99, Train accuracy 37.47, Validation loss 4.29, Validation accuracy 10.55\n",
      "Epoch 9, Train loss 0.98, Train accuracy 38.34, Validation loss 4.14, Validation accuracy 11.07\n",
      "Epoch 10, Train loss 0.97, Train accuracy 39.27, Validation loss 4.24, Validation accuracy 10.01\n",
      "Test loss 3.92, Test accuracy 10.00\n"
     ]
    }
   ],
   "source": [
    "teacher_model = LeNet(distilation=False)\n",
    "\n",
    "batch_size, lr, num_epochs = 256, 0.9, 10\n",
    "train_iter, val_iter, test_iter = load_data_fashion_mnist(batch_size, error_rate=0)\n",
    "train_loss, train_acc, val_loss, val_acc, test_acc, test_loss = train(teacher_model, train_iter, val_iter, test_iter, num_epochs, lr, try_gpu()) #2 min\n",
    "\n",
    "teacher_model.eval()\n",
    "student_model = LeNet(distilation=True)\n",
    "criterion = nn.CrossEntropyLoss()\n",
    "distilation_loss = DistilationLoss(criterion, teacher_model, distillation_type='hard')\n",
    "train_iter, val_iter, test_iter = load_data_fashion_mnist(batch_size, error_rate=0.5)\n",
    "train_loss, train_acc, val_loss, val_acc, test_acc, test_loss = train(student_model, train_iter, val_iter, test_iter, num_epochs, lr, try_gpu(), loss=distilation_loss) #2 min"
   ]
  },
  {
   "attachments": {},
   "cell_type": "markdown",
   "metadata": {},
   "source": [
    "## Train"
   ]
  },
  {
   "cell_type": "code",
   "execution_count": null,
   "metadata": {},
   "outputs": [],
   "source": [
    "import numpy as np\n",
    "\n",
    "batch_size, lr, num_epochs = 256, 0.9, 10\n",
    "\n",
    "train_loss_all = []\n",
    "train_acc_all = []\n",
    "val_loss_all = []\n",
    "val_acc_all = []\n",
    "test_loss_all = []\n",
    "test_acc_all = []\n",
    "\n",
    "for error_rate in rate_errors:\n",
    "    train_iter, val_iter, test_iter = load_data_fashion_mnist(batch_size, error_rate=error_rate)\n",
    "    train_loss, train_acc, val_loss, val_acc, test_acc, test_loss = train(net, train_iter, val_iter, test_iter, num_epochs, lr, try_gpu()) #2 min\n",
    "    train_loss_all.append(train_loss)\n",
    "    train_acc_all.append(train_acc)\n",
    "    val_loss_all.append(val_loss)\n",
    "    val_acc_all.append(val_acc)\n",
    "    test_loss_all.append(test_loss)\n",
    "    test_acc_all.append(test_acc)\n",
    "\n",
    "\n",
    "buffer_train_val = np.array([train_loss_all, train_acc_all, val_loss_all, val_acc_all])\n",
    "buffer_test = np.array([test_loss_all, test_acc_all])\n",
    "\n",
    "buffer_train_val.tofile(\"buffer_train_val.numpy\")\n",
    "buffer_test.tofile(\"buffer_test.numpy\")"
   ]
  },
  {
   "attachments": {},
   "cell_type": "markdown",
   "metadata": {},
   "source": [
    "## Data interpretation"
   ]
  },
  {
   "cell_type": "code",
   "execution_count": 44,
   "metadata": {},
   "outputs": [],
   "source": [
    "import matplotlib.pyplot as plt\n",
    "import numpy as np\n",
    "\n",
    "batch_size, lr, num_epochs = 256, 0.9, 10\n",
    "rate_errors = [0.0, 0.1, 0.2, 0.3, 0.4, 0.5, 0.6, 0.7, 0.8, 0.9, 1.0]"
   ]
  },
  {
   "cell_type": "code",
   "execution_count": 45,
   "metadata": {},
   "outputs": [
    {
     "data": {
      "text/plain": [
       "[<matplotlib.lines.Line2D at 0x7f996290bfd0>]"
      ]
     },
     "execution_count": 45,
     "metadata": {},
     "output_type": "execute_result"
    },
    {
     "data": {
      "image/png": "[encoded data removed]",
      "text/plain": [
       "<Figure size 640x480 with 1 Axes>"
      ]
     },
     "metadata": {},
     "output_type": "display_data"
    }
   ],
   "source": [
    "buffer_test = np.fromfile(\"fashionMnist_iteration1/buffer_test.numpy\")\n",
    "buffer_test = buffer_test.reshape((2, len(rate_errors), 1))\n",
    "\n",
    "test_loss_all = buffer_test[0]\n",
    "test_acc_all = buffer_test[1]\n",
    "\n",
    "plt.plot(rate_errors, test_acc_all)"
   ]
  },
  {
   "cell_type": "code",
   "execution_count": 46,
   "metadata": {},
   "outputs": [
    {
     "data": {
      "image/png": "[encoded data removed]",
      "text/plain": [
       "<Figure size 640x480 with 1 Axes>"
      ]
     },
     "metadata": {},
     "output_type": "display_data"
    },
    {
     "data": {
      "text/plain": [
       "(<matplotlib.legend.Legend at 0x7f9970b9a160>, None)"
      ]
     },
     "execution_count": 46,
     "metadata": {},
     "output_type": "execute_result"
    }
   ],
   "source": [
    "buffer_train_val = np.fromfile(\"fashionMnist_iteration1/buffer_train_val.numpy\")\n",
    "buffer_train_val = buffer_train_val.reshape((4, len(rate_errors), num_epochs))\n",
    "\n",
    "train_loss_all = buffer_train_val[0]\n",
    "train_acc_all = buffer_train_val[1]\n",
    "val_loss_all = buffer_train_val[2]\n",
    "val_acc_all = buffer_train_val[3]\n",
    "\n",
    "best_train_acc = train_acc_all[:, -1]\n",
    "best_val_acc = val_acc_all[:, -1]\n",
    "error_pergentage = np.multiply(rate_errors, 100)\n",
    "\n",
    "plt.plot(error_pergentage, best_train_acc, label='Train acc - 10 epochs')\n",
    "plt.plot(error_pergentage, best_val_acc, label='Validation acc - 10 epochs')\n",
    "plt.plot(error_pergentage, test_acc_all, label='Test acc - 10 epochs')\n",
    "plt.xlabel('Errors in the dataset [%]')\n",
    "plt.ylabel('Accuracy [%]')\n",
    "\n",
    "plt.legend(), plt.show()"
   ]
  },
  {
   "cell_type": "code",
   "execution_count": 48,
   "metadata": {},
   "outputs": [
    {
     "name": "stdout",
     "output_type": "stream",
     "text": [
      "[[79.6 ]\n",
      " [76.63]\n",
      " [78.22]\n",
      " [74.09]\n",
      " [73.88]\n",
      " [72.75]\n",
      " [59.61]\n",
      " [56.34]\n",
      " [10.  ]\n",
      " [10.  ]\n",
      " [10.  ]]\n"
     ]
    }
   ],
   "source": [
    "print(test_acc_all)"
   ]
  }
 ],
 "metadata": {
  "kernelspec": {
   "display_name": "base",
   "language": "python",
   "name": "python3"
  },
  "language_info": {
   "codemirror_mode": {
    "name": "ipython",
    "version": 3
   },
   "file_extension": ".py",
   "mimetype": "text/x-python",
   "name": "python",
   "nbconvert_exporter": "python",
   "pygments_lexer": "ipython3",
   "version": "3.9.13"
  },
  "orig_nbformat": 4
 },
 "nbformat": 4,
 "nbformat_minor": 2
}
